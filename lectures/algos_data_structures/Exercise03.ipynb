{
 "cells": [
  {
   "cell_type": "markdown",
   "metadata": {},
   "source": [
    "Before you turn this problem in, make sure everything runs as expected. First, **restart the kernel** (in the menubar, select Kernel$\\rightarrow$Restart) and then **run all cells** (in the menubar, select Cell$\\rightarrow$Run All).\n",
    "\n",
    "Make sure you fill in any place that says `YOUR CODE HERE` or \"YOUR ANSWER HERE\", as well as your name and collaborators below:"
   ]
  },
  {
   "cell_type": "code",
   "execution_count": null,
   "metadata": {},
   "outputs": [],
   "source": [
    "NAME = \"\"\n",
    "COLLABORATORS = \"\""
   ]
  },
  {
   "cell_type": "markdown",
   "metadata": {},
   "source": [
    "---"
   ]
  },
  {
   "cell_type": "markdown",
   "metadata": {
    "deletable": false,
    "editable": false,
    "nbgrader": {
     "checksum": "044b7da3cb3fbfe32325e5edefdab89b",
     "grade": false,
     "grade_id": "cell-ffa71f6b669da86c",
     "locked": true,
     "schema_version": 1,
     "solution": false
    }
   },
   "source": [
    "#  Einleitung\n",
    "In dieser Aufgabe soll Ihr Verständnis von Sortieralgorithmen gestärkt werden. Stellen Sie sicher, dass sie das Archiv samt Test-Dateien heruntergeladen und in einen Unterordner `test_cases` extrahiert haben (Quelle: http://blog.quibb.org/2008/11/sort-optimization/). Öffnen Sie den Ordner und schauen Sie sich den Schema an, nachdem die Dateien benannt sind.\n",
    "\n",
    "\n"
   ]
  },
  {
   "cell_type": "markdown",
   "metadata": {
    "deletable": false,
    "editable": false,
    "nbgrader": {
     "checksum": "f9d496e697ccc50c6d60558e59ee5904",
     "grade": false,
     "grade_id": "cell-f56609ca84e81010",
     "locked": true,
     "schema_version": 1,
     "solution": false
    }
   },
   "source": [
    "# Sortierverfahren implementieren (6⋅4 Pkt.)\n",
    "Implementieren Sie folgende Sortieralgorithmen.\n",
    "\n",
    "- Selectionsort\n",
    "- Insertionsort\n",
    "- Quicksort\n",
    "- Bubblesort\n",
    "- Mergesort\n",
    "- Heapsort\n",
    "\n",
    "Die Sortieralgorithmen sollen eine sortierte Kopie der ursprünglichen Liste zurück geben und das Original nicht verändern (damit das Verhalten kongruent zu `sorted()`) ist.\n"
   ]
  },
  {
   "cell_type": "code",
   "execution_count": 35,
   "metadata": {
    "deletable": false,
    "nbgrader": {
     "checksum": "cca8cf639b18c7118b37ad05ef48402a",
     "grade": false,
     "grade_id": "cell-6d812715dbe509ce",
     "locked": false,
     "schema_version": 1,
     "solution": true
    }
   },
   "outputs": [
    {
     "name": "stdout",
     "output_type": "stream",
     "text": [
      "[0, 4, 5, 12, 14, 17, 18, 23, 26, 29, 31, 35, 36, 40, 45, 52, 53, 57, 59, 61, 71, 76, 80, 81, 82, 83, 85, 86, 96, 98]\n"
     ]
    }
   ],
   "source": [
    "# -*- coding: utf-8 -*-\n",
    "import sys\n",
    "\n",
    "def selectionsort(data):\n",
    "    data = data[:]\n",
    "    for i in range (0,len(data)):\n",
    "        kleinstes = data[i]\n",
    "        for j in range (i, len(data)):\n",
    "            if data[j] <= kleinstes:\n",
    "                kleinstes = data[j]\n",
    "                stelle = j\n",
    "        temp = data[i]\n",
    "        data[i] = data[stelle]\n",
    "        data[stelle] = temp\n",
    "    return data\n",
    "\n",
    "def insertionsort(data):\n",
    "    data = data[:]\n",
    "    for i in range(1,len(data)):\n",
    "        currentvalue = data[i]\n",
    "        position = i\n",
    "        while position>0 and data[position-1]>currentvalue:\n",
    "            data[position]=data[position-1]\n",
    "            position = position-1\n",
    "        data[position]=currentvalue\n",
    "    return data\n",
    "\n",
    "def bubblesort(data):\n",
    "    data = data[:]\n",
    "    for i in range(0,len(data)-1):\n",
    "        for j in range(0,len(data)-1-i):\n",
    "            if data[j] >= data[j+1]:\n",
    "                temp = data[j]\n",
    "                data[j] = data[j+1]\n",
    "                data[j+1] = temp\n",
    "    return data\n",
    "    \n",
    "\n",
    "def quicksort(data):\n",
    "    if len(data) < 1:\n",
    "        return data\n",
    "    pivot = data[0]\n",
    "    left = []\n",
    "    right = []\n",
    "    for i in range (1,len(data)):\n",
    "        if data[i] <= pivot:\n",
    "            left.append(data[i])\n",
    "        else:\n",
    "            right.append(data[i])\n",
    "    left = quicksort(left)\n",
    "    right = quicksort(right)\n",
    "    pivotelement = [pivot]\n",
    "    return left + pivotelement + right \n",
    "    \n",
    "class MaxHeap:\n",
    "  def __init__(self, items=[]):\n",
    "    super().__init__()\n",
    "    self.heap = [0]\n",
    "    for i in items:\n",
    "      self.heap.append(i)\n",
    "      self.__floatUp(len(self.heap) - 1)\n",
    "\n",
    "  def push(self, data):\n",
    "      self.heap.append(data)\n",
    "      self.__floatUp(len(self.heap) - 1)\n",
    "\n",
    "  def peek(self):\n",
    "    if self.heap[1]:\n",
    "      return self.heap[1]\n",
    "    else:\n",
    "      return None\n",
    "\n",
    "  def pop(self):\n",
    "    if len(self.heap) > 2: # more than one el in heap\n",
    "      self.__swap(1, len(self.heap) - 1)\n",
    "      max = self.heap.pop()\n",
    "      self.__bubbleDown(1)\n",
    "    elif len(self.heap) == 2: # only one element in heap\n",
    "      max = self.heap.pop()\n",
    "    else:\n",
    "      max = None\n",
    "    return max\n",
    "\n",
    "  def __swap(self, i, j):\n",
    "    self.heap[i], self.heap[j] = self.heap[j], self.heap[i] # destructuring assignment :) nice learning\n",
    "\n",
    "  def __floatUp(self, index):\n",
    "    parent = index // 2 # integer division\n",
    "    if index <= 1:\n",
    "      return\n",
    "    elif self.heap[index] > self.heap[parent]:\n",
    "      self.__swap(index, parent)\n",
    "      self.__floatUp(parent) # recursion\n",
    "\n",
    "  def __bubbleDown(self, index): # also 'maxHeapify'\n",
    "    left = index * 2\n",
    "    right = index * 2 + 1\n",
    "    largest = index\n",
    "    # prevent out of bounds exception and check\n",
    "    # if index el is not the largest among it's children, swap with the largest child\n",
    "    if len(self.heap) > left and self.heap[left] > self.heap[largest]:\n",
    "      largest = left\n",
    "    if len(self.heap) > right and  self.heap[right] > self.heap[largest]:\n",
    "      largest = right\n",
    "    if largest != index:\n",
    "      self.__swap(index, largest)\n",
    "      self.__bubbleDown(largest)\n",
    "\n",
    "def heapsort(arr):\n",
    "  res = []\n",
    "  m = MaxHeap(arr)\n",
    "  el = m.pop()\n",
    "  while el != None:\n",
    "    res.append(el)\n",
    "    el = m.pop()\n",
    "  return list(reversed(res))\n",
    "\n",
    "def _split(arr):\n",
    "    return (arr[: len(arr) // 2], arr[len(arr) // 2 :])\n",
    "\n",
    "def _merge(left, right):\n",
    "    leftIndex = 0\n",
    "    rightIndex = 0\n",
    "    \n",
    "    result = []\n",
    "    \n",
    "    while leftIndex < len(left) and rightIndex < len(right):\n",
    "        if left[leftIndex] <= right[rightIndex]:\n",
    "            result.append(left[leftIndex])\n",
    "            leftIndex += 1\n",
    "        else:\n",
    "            result.append(right[rightIndex])\n",
    "            rightIndex += 1\n",
    "    \n",
    "    if leftIndex < len(left):\n",
    "        result.extend(left[leftIndex:])\n",
    "    elif rightIndex < len(right):\n",
    "        result.extend(right[rightIndex:])\n",
    "        \n",
    "    return result\n",
    "    \n",
    "def mergesort(arr):\n",
    "    if arr is None:\n",
    "        return None\n",
    "    \n",
    "    if len(arr) < 2:\n",
    "        return arr\n",
    "    \n",
    "    left, right = _split(arr)\n",
    "    \n",
    "    return _merge(mergesort(left), mergesort(right))\n",
    "\n",
    "print(mergesort(random.sample(range(100), 30)))"
   ]
  },
  {
   "cell_type": "code",
   "execution_count": 36,
   "metadata": {
    "deletable": false,
    "editable": false,
    "nbgrader": {
     "checksum": "601dcd441a8a65d90b4cbddcc0f59c1e",
     "grade": true,
     "grade_id": "cell-848f5caf61f83589",
     "locked": true,
     "points": 0,
     "schema_version": 1,
     "solution": false
    }
   },
   "outputs": [],
   "source": [
    "import random\n",
    "\n",
    "SAMPLE_LIST = random.sample(range(100), 30)\n",
    "\n",
    "def test_algorithm(algorithm):\n",
    "    sample_list = SAMPLE_LIST[:]\n",
    "    assert algorithm(sample_list) == sorted(sample_list), \"{} did not sort the list\".format(algorithm.__name__)\n",
    "    assert sample_list == SAMPLE_LIST, \"{} altered the original\".format(algorithm.__name__)"
   ]
  },
  {
   "cell_type": "code",
   "execution_count": 37,
   "metadata": {
    "deletable": false,
    "editable": false,
    "nbgrader": {
     "checksum": "f93a3075f68b4d3e0358fa08335c181a",
     "grade": true,
     "grade_id": "cell-87b11519e17f1c63",
     "locked": true,
     "points": 4,
     "schema_version": 1,
     "solution": false
    }
   },
   "outputs": [],
   "source": [
    "test_algorithm(selectionsort)"
   ]
  },
  {
   "cell_type": "code",
   "execution_count": 38,
   "metadata": {
    "deletable": false,
    "editable": false,
    "nbgrader": {
     "checksum": "28b1445d75d1e7d9443b380352f68461",
     "grade": true,
     "grade_id": "cell-24cfee0a571db291",
     "locked": true,
     "points": 4,
     "schema_version": 1,
     "solution": false
    }
   },
   "outputs": [],
   "source": [
    "test_algorithm(insertionsort)"
   ]
  },
  {
   "cell_type": "code",
   "execution_count": 39,
   "metadata": {
    "deletable": false,
    "editable": false,
    "nbgrader": {
     "checksum": "38c72c4193b159c90abf9b5efa9f02b0",
     "grade": true,
     "grade_id": "cell-78ffe6f52e47fc47",
     "locked": true,
     "points": 4,
     "schema_version": 1,
     "solution": false
    }
   },
   "outputs": [],
   "source": [
    "test_algorithm(bubblesort)"
   ]
  },
  {
   "cell_type": "code",
   "execution_count": 40,
   "metadata": {
    "deletable": false,
    "editable": false,
    "nbgrader": {
     "checksum": "755e50222934b2036f872a96ae3d309c",
     "grade": true,
     "grade_id": "cell-e60d068bfdb9cdde",
     "locked": true,
     "points": 4,
     "schema_version": 1,
     "solution": false
    }
   },
   "outputs": [],
   "source": [
    "test_algorithm(quicksort)"
   ]
  },
  {
   "cell_type": "code",
   "execution_count": 41,
   "metadata": {
    "deletable": false,
    "editable": false,
    "nbgrader": {
     "checksum": "d0e12c8899111de36bd45aeb27f7cea9",
     "grade": true,
     "grade_id": "cell-037297fb44664ec1",
     "locked": true,
     "points": 4,
     "schema_version": 1,
     "solution": false
    }
   },
   "outputs": [],
   "source": [
    "test_algorithm(heapsort)"
   ]
  },
  {
   "cell_type": "code",
   "execution_count": 42,
   "metadata": {
    "deletable": false,
    "editable": false,
    "nbgrader": {
     "checksum": "4f34e7554f9bb8de9bd2148e3c6232b3",
     "grade": true,
     "grade_id": "cell-96e6149464b940df",
     "locked": true,
     "points": 4,
     "schema_version": 1,
     "solution": false
    },
    "scrolled": true
   },
   "outputs": [],
   "source": [
    "test_algorithm(mergesort)"
   ]
  },
  {
   "cell_type": "markdown",
   "metadata": {
    "deletable": false,
    "editable": false,
    "nbgrader": {
     "checksum": "601327d4999fee3744c2a024a4a079cb",
     "grade": false,
     "grade_id": "cell-84426cd680519ec2",
     "locked": true,
     "schema_version": 1,
     "solution": false
    }
   },
   "source": [
    "# Einlesen von Dateien (4 Pkt.)\n",
    "Schreiben sie eine Funktion `load_test_cases(path)`, die zu den zur Verfügung gestellten Testfällen jeweils die Datei mit 10e3 Einträgen lädt."
   ]
  },
  {
   "cell_type": "code",
   "execution_count": 90,
   "metadata": {
    "deletable": false,
    "nbgrader": {
     "checksum": "66401d0e72aeca9ae57ce9cad9ec7c4e",
     "grade": false,
     "grade_id": "cell-d64d799097780639",
     "locked": false,
     "schema_version": 1,
     "solution": true
    }
   },
   "outputs": [
    {
     "name": "stdout",
     "output_type": "stream",
     "text": [
      "dict_keys(['rev.partial.1000.txt', 'seq.partial.1000.txt', 'identical.1000.txt', 'rand.no.dups.1000.txt', 'rev.saw.1000.txt', 'rev.ends.1000.txt', 'seq.saw.1000.txt', 'seq.0.is.1000.1000.txt', '1245.repeat.1000.txt', 'sequential.1000.txt', 'med.3.killer.1000.txt', 'rand.dups.1000.txt', 'rand.steps.1000.txt', 'end.0.1000.txt', 'reverse.1000.txt'])\n"
     ]
    }
   ],
   "source": [
    "from os import walk\n",
    "\n",
    "x = 1000\n",
    "TEST_CASE_PATH = \"test_files\"\n",
    "\n",
    "def file_len(path):\n",
    "    with open(path) as f:\n",
    "        for i, l in enumerate(f):\n",
    "            pass\n",
    "\n",
    "    return i + 1\n",
    "\n",
    "\n",
    "def load_test_cases(path):\n",
    "\n",
    "    f = []\n",
    "\n",
    "    for (dirpath, dirnames, filenames) in walk(path):\n",
    "        onlyXLines = [filename for filename in filenames if  file_len(dirpath + \"/\" + filename) == 1000]\n",
    "        f.extend(onlyXLines)\n",
    "        \n",
    "        break\n",
    "    # YOUR CODE HERE\n",
    "    return dict((el,0) for el in f)\n",
    "\n",
    "print(load_test_cases(TEST_CASE_PATH).keys())"
   ]
  },
  {
   "cell_type": "code",
   "execution_count": 89,
   "metadata": {
    "deletable": false,
    "editable": false,
    "nbgrader": {
     "checksum": "c1a5b3116037576c278430d102fbf85d",
     "grade": true,
     "grade_id": "cell-6b64b68014341d9a",
     "locked": true,
     "points": 4,
     "schema_version": 1,
     "solution": false
    }
   },
   "outputs": [
    {
     "ename": "AssertionError",
     "evalue": "Element counts were not equal:\n\nDiff is 1348 characters long. Set self.maxDiff to None to see it.",
     "output_type": "error",
     "traceback": [
      "\u001b[0;31m---------------------------------------------------------------------------\u001b[0m",
      "\u001b[0;31mAssertionError\u001b[0m                            Traceback (most recent call last)",
      "\u001b[0;32m<ipython-input-89-2f809d51ef7f>\u001b[0m in \u001b[0;36m<module>\u001b[0;34m()\u001b[0m\n\u001b[1;32m      7\u001b[0m                         'rev.ends', 'rev.partial', 'rev.saw', 'reverse', 'seq.0.is.1000', 'seq.partial', 'seq.saw', 'sequential']\n\u001b[1;32m      8\u001b[0m \u001b[0;34m\u001b[0m\u001b[0m\n\u001b[0;32m----> 9\u001b[0;31m \u001b[0munittest_test_case\u001b[0m\u001b[0;34m.\u001b[0m\u001b[0massertCountEqual\u001b[0m\u001b[0;34m(\u001b[0m\u001b[0mloaded_test_cases\u001b[0m\u001b[0;34m.\u001b[0m\u001b[0mkeys\u001b[0m\u001b[0;34m(\u001b[0m\u001b[0;34m)\u001b[0m\u001b[0;34m,\u001b[0m \u001b[0mavailable_test_cases\u001b[0m\u001b[0;34m)\u001b[0m\u001b[0;34m\u001b[0m\u001b[0m\n\u001b[0m\u001b[1;32m     10\u001b[0m \u001b[0;34m\u001b[0m\u001b[0m\n\u001b[1;32m     11\u001b[0m \u001b[0;32mfor\u001b[0m \u001b[0mkey\u001b[0m\u001b[0;34m,\u001b[0m \u001b[0mvalue\u001b[0m \u001b[0;32min\u001b[0m \u001b[0mloaded_test_cases\u001b[0m\u001b[0;34m.\u001b[0m\u001b[0mitems\u001b[0m\u001b[0;34m(\u001b[0m\u001b[0;34m)\u001b[0m\u001b[0;34m:\u001b[0m\u001b[0;34m\u001b[0m\u001b[0m\n",
      "\u001b[0;32m/usr/local/Cellar/python/3.6.5/Frameworks/Python.framework/Versions/3.6/lib/python3.6/unittest/case.py\u001b[0m in \u001b[0;36massertCountEqual\u001b[0;34m(self, first, second, msg)\u001b[0m\n\u001b[1;32m   1181\u001b[0m             \u001b[0mstandardMsg\u001b[0m \u001b[0;34m=\u001b[0m \u001b[0mself\u001b[0m\u001b[0;34m.\u001b[0m\u001b[0m_truncateMessage\u001b[0m\u001b[0;34m(\u001b[0m\u001b[0mstandardMsg\u001b[0m\u001b[0;34m,\u001b[0m \u001b[0mdiffMsg\u001b[0m\u001b[0;34m)\u001b[0m\u001b[0;34m\u001b[0m\u001b[0m\n\u001b[1;32m   1182\u001b[0m             \u001b[0mmsg\u001b[0m \u001b[0;34m=\u001b[0m \u001b[0mself\u001b[0m\u001b[0;34m.\u001b[0m\u001b[0m_formatMessage\u001b[0m\u001b[0;34m(\u001b[0m\u001b[0mmsg\u001b[0m\u001b[0;34m,\u001b[0m \u001b[0mstandardMsg\u001b[0m\u001b[0;34m)\u001b[0m\u001b[0;34m\u001b[0m\u001b[0m\n\u001b[0;32m-> 1183\u001b[0;31m             \u001b[0mself\u001b[0m\u001b[0;34m.\u001b[0m\u001b[0mfail\u001b[0m\u001b[0;34m(\u001b[0m\u001b[0mmsg\u001b[0m\u001b[0;34m)\u001b[0m\u001b[0;34m\u001b[0m\u001b[0m\n\u001b[0m\u001b[1;32m   1184\u001b[0m \u001b[0;34m\u001b[0m\u001b[0m\n\u001b[1;32m   1185\u001b[0m     \u001b[0;32mdef\u001b[0m \u001b[0massertMultiLineEqual\u001b[0m\u001b[0;34m(\u001b[0m\u001b[0mself\u001b[0m\u001b[0;34m,\u001b[0m \u001b[0mfirst\u001b[0m\u001b[0;34m,\u001b[0m \u001b[0msecond\u001b[0m\u001b[0;34m,\u001b[0m \u001b[0mmsg\u001b[0m\u001b[0;34m=\u001b[0m\u001b[0;32mNone\u001b[0m\u001b[0;34m)\u001b[0m\u001b[0;34m:\u001b[0m\u001b[0;34m\u001b[0m\u001b[0m\n",
      "\u001b[0;32m/usr/local/Cellar/python/3.6.5/Frameworks/Python.framework/Versions/3.6/lib/python3.6/unittest/case.py\u001b[0m in \u001b[0;36mfail\u001b[0;34m(self, msg)\u001b[0m\n\u001b[1;32m    668\u001b[0m     \u001b[0;32mdef\u001b[0m \u001b[0mfail\u001b[0m\u001b[0;34m(\u001b[0m\u001b[0mself\u001b[0m\u001b[0;34m,\u001b[0m \u001b[0mmsg\u001b[0m\u001b[0;34m=\u001b[0m\u001b[0;32mNone\u001b[0m\u001b[0;34m)\u001b[0m\u001b[0;34m:\u001b[0m\u001b[0;34m\u001b[0m\u001b[0m\n\u001b[1;32m    669\u001b[0m         \u001b[0;34m\"\"\"Fail immediately, with the given message.\"\"\"\u001b[0m\u001b[0;34m\u001b[0m\u001b[0m\n\u001b[0;32m--> 670\u001b[0;31m         \u001b[0;32mraise\u001b[0m \u001b[0mself\u001b[0m\u001b[0;34m.\u001b[0m\u001b[0mfailureException\u001b[0m\u001b[0;34m(\u001b[0m\u001b[0mmsg\u001b[0m\u001b[0;34m)\u001b[0m\u001b[0;34m\u001b[0m\u001b[0m\n\u001b[0m\u001b[1;32m    671\u001b[0m \u001b[0;34m\u001b[0m\u001b[0m\n\u001b[1;32m    672\u001b[0m     \u001b[0;32mdef\u001b[0m \u001b[0massertFalse\u001b[0m\u001b[0;34m(\u001b[0m\u001b[0mself\u001b[0m\u001b[0;34m,\u001b[0m \u001b[0mexpr\u001b[0m\u001b[0;34m,\u001b[0m \u001b[0mmsg\u001b[0m\u001b[0;34m=\u001b[0m\u001b[0;32mNone\u001b[0m\u001b[0;34m)\u001b[0m\u001b[0;34m:\u001b[0m\u001b[0;34m\u001b[0m\u001b[0m\n",
      "\u001b[0;31mAssertionError\u001b[0m: Element counts were not equal:\n\nDiff is 1348 characters long. Set self.maxDiff to None to see it."
     ]
    }
   ],
   "source": [
    "import unittest\n",
    "\n",
    "unittest_test_case = unittest.TestCase('__init__')\n",
    "\n",
    "loaded_test_cases = load_test_cases(TEST_CASE_PATH)\n",
    "available_test_cases = ['1245.repeat', 'end.0', 'identical', 'med.3.killer', 'rand.dups', 'rand.no.dups', 'rand.steps', \n",
    "                        'rev.ends', 'rev.partial', 'rev.saw', 'reverse', 'seq.0.is.1000', 'seq.partial', 'seq.saw', 'sequential']\n",
    "\n",
    "unittest_test_case.assertCountEqual(loaded_test_cases.keys(), available_test_cases)\n",
    "\n",
    "for key, value in loaded_test_cases.items():\n",
    "    assert len(value) == 10e3, \"Number of testcases mismatch for {}\".format(key)"
   ]
  },
  {
   "cell_type": "markdown",
   "metadata": {
    "deletable": false,
    "editable": false,
    "nbgrader": {
     "checksum": "4f402817feb6972f192b5d138043f40e",
     "grade": false,
     "grade_id": "cell-47b900000dd01232",
     "locked": true,
     "schema_version": 1,
     "solution": false
    }
   },
   "source": [
    "# Sortierverfahren testen (12 Pkt.)\n",
    " Vergleichen Sie die Sortierverfahren untereinander und mit der Python Funktion `sorted()`\n",
    " - Benutzen sie `result = %timeit -n 100 -r 3 -o` um die Ausführung zu messen und das Ergebnis in einer Variablen speichern zu können. Auf das beste Ergebnis können Sie mit `result.best` zugreifen.\n",
    " - Gruppieren Sie die Ergebnisse nach Testfall.\n",
    " - Testen sie folgende „Splices“ Ihres Testdatensatzes: `x_values = [10, 20, 50, 100, 200, 500, 1000, 2000, 5000, 10000]`\n",
    " - Stellen sie die Ergebnisse mittels Tabelle und Graphen mit Titel und Achsenbeschriftung dar (Matplotlib).\n",
    " - Bewerten Sie das Ergebnis"
   ]
  },
  {
   "cell_type": "code",
   "execution_count": null,
   "metadata": {
    "deletable": false,
    "nbgrader": {
     "checksum": "375f9afd6886b3e231c120827997b8dc",
     "grade": true,
     "grade_id": "cell-584a475079bfa4bd",
     "locked": false,
     "points": 12,
     "schema_version": 1,
     "solution": true
    }
   },
   "outputs": [],
   "source": [
    "# for quicksort\n",
    "import sys\n",
    "sys.setrecursionlimit(20000)\n",
    "\n",
    "# YOUR CODE HERE\n",
    "raise NotImplementedError()\n",
    "        "
   ]
  }
 ],
 "metadata": {
  "kernelspec": {
   "display_name": "Python 3",
   "language": "python",
   "name": "python3"
  },
  "language_info": {
   "codemirror_mode": {
    "name": "ipython",
    "version": 3
   },
   "file_extension": ".py",
   "mimetype": "text/x-python",
   "name": "python",
   "nbconvert_exporter": "python",
   "pygments_lexer": "ipython3",
   "version": "3.6.5"
  }
 },
 "nbformat": 4,
 "nbformat_minor": 2
}
