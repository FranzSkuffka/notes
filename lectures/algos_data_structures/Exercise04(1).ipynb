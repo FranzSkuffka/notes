{
 "cells": [
  {
   "cell_type": "code",
   "execution_count": 1,
   "metadata": {},
   "outputs": [],
   "source": [
    "NAME = \"Björn Steinorth\"\n",
    "COLLABORATORS = \"\""
   ]
  },
  {
   "cell_type": "markdown",
   "metadata": {},
   "source": [
    "---"
   ]
  },
  {
   "cell_type": "markdown",
   "metadata": {
    "deletable": false,
    "editable": false,
    "nbgrader": {
     "checksum": "12b49052d496ee84543adacc8d397d90",
     "grade": false,
     "grade_id": "cell-4cd04a7bd4f95216",
     "locked": true,
     "schema_version": 1,
     "solution": false
    }
   },
   "source": [
    "# Master Theorem (8⋅2,5 Punkte)\n",
    "Durch den Hauptsatz der Laufzeitfunktionen (Master-Theorem) lässt sich die Funktion $$T(n) = aT\\left(\\frac{n}{b}\\right) + f(n)$$ zur Bestimmung der Laufzeit eines Algorithmus der Größe $n$ abschätzen.\n",
    "\n",
    "Für welche der folgenden Gleichungen ist der Hauptsatz der Laufzeitfunktionen anwendbar? Falls anwendbar, geben Sie die Laufzeit $T\\left(n\\right)$ an, falls nicht den Grund dafür.\n",
    "\n",
    "1.  $T(n) = T(\\frac{n}{2}) + n(2 − \\cos n)$\n",
    "2. $T(n) = 64T(\\frac{n}{8}) − n^2\\log(n)$ \n",
    "3. $T(n) = 2^nT(\\frac{n}{2}) + n^n$\n",
    "4. $T(n) = 0.5T(\\frac{n}{2}) + 1/n$\n",
    "5. $T (n) = 7T (\\frac{n}{3}) + n^2$\n",
    "6. $T (n) = 16T (\\frac{n}{4}) + n!$\n",
    "7. $T(n) = \\sqrt{2} T(\\frac{n}{2}) + \\log n$\n",
    "8. $T (n) = 2T (\\frac{n}{4}) + n^{0.51}$"
   ]
  },
  {
   "cell_type": "markdown",
   "metadata": {
    "deletable": false,
    "nbgrader": {
     "checksum": "bfe0e6a8f590150a9d9d00ab57be215d",
     "grade": true,
     "grade_id": "cell-650e1da811f4939b",
     "locked": false,
     "points": 20,
     "schema_version": 1,
     "solution": true
    }
   },
   "source": [
    "YOUR ANSWER HERE"
   ]
  },
  {
   "cell_type": "markdown",
   "metadata": {
    "deletable": false,
    "editable": false,
    "nbgrader": {
     "checksum": "55cfa0f032f99903deb568e4b729c38b",
     "grade": false,
     "grade_id": "cell-4cd04a7bd4f95217",
     "locked": true,
     "schema_version": 1,
     "solution": false
    }
   },
   "source": [
    "# O-Notation\n",
    "\n",
    "## Laufzeiten und asymptotische Komplexitäten ((3 + 3 + 2)Punkte)\n",
    "       \n",
    "Gegeben seien drei Algorithmen mit den Laufzeiten\n",
    "        \n",
    "1. $T_1(n) = N^2 + N + 10$\n",
    "2. $T_2(n) = 15 N \\log N$\n",
    "3. $T_3(n) = 2^N$\n",
    "\n",
    "Geben Sie für jeden Algorithmus $T_i$ das Intervall für N ($N > 1$) an, in dem der Algorithmus am schnellsten abläuft.\n",
    "\n",
    "Beispiel: Wäre die schnellste Laufzeit von $T_i$ im Bereich $1.2 < N < 6.5$ lautete die Antwort $\\left[2,6\\right]$\n",
    "\n",
    "Bestimmen Sie außerdem die asymptotische Komplexität der Algorithmen und die daraus folgende Ordnung."
   ]
  },
  {
   "cell_type": "markdown",
   "metadata": {
    "deletable": false,
    "nbgrader": {
     "checksum": "3fb7112ce35072c05b74d7d7c78dd81e",
     "grade": true,
     "grade_id": "cell-85741b722e336957",
     "locked": false,
     "points": 8,
     "schema_version": 1,
     "solution": true
    }
   },
   "source": [
    "1. $T_1(n)$ wächst am schnellsten für das Intervall [1, 3]. Die Laufzeit von $T_1(n)$ ist $O(n^2).$\n",
    "2. $T_2(n)$ wächst am schnellsten für das Intervall [4, 6]. Die Laufzeit von $T_2(n)$ ist $O(n log n)$\n",
    "3. $T_3(n)$ wächst am schnellsten für das Intervall [6, unendlich). Die Laufzeit von $T_4$ ist $O(2^n)$"
   ]
  },
  {
   "cell_type": "markdown",
   "metadata": {
    "deletable": false,
    "editable": false,
    "nbgrader": {
     "checksum": "4339c56b1abd16925f86bbf057a2adf4",
     "grade": false,
     "grade_id": "cell-18f3551ae6d06328",
     "locked": true,
     "schema_version": 1,
     "solution": false
    }
   },
   "source": [
    "## Laufzeiten von Algorithmen in O-Notation (4⋅3 Punkte)\n",
    "\n",
    "Per Definition der O-Notation ist die Laufzeit von $a_1(n)$, $O(f(n))$, falls $a_1(n) <= cf(n)$ für ein $n>=n_0$.\n",
    "\n",
    "Zeigen Sie, dass die unten Angaben wahr sind und geben Sie ein $n_0$ und $c$ an für das diese Annahme wahr ist.\n",
    "\n",
    "Beispiel: Laufzeit $n^3 + 20n + 1$ ist O(n^3) für $n_0 = 10$ und $c = 1.201$\n",
    "\n",
    "1. Running time of $a_1(n) = n^2 + 16n + 1$ is $O(n^3)$\n",
    "2. Running time of $a_2(n) = n^2 + 16n + 1$ is $O(n^2)$\n",
    "3. Running time of $a_3(n) = n^2 + 16n + 1$ is not $O(n)$\n",
    "4. Running time of $a_4(n) = n^2 + 16n + 20$ is $\\Omega(n)$"
   ]
  },
  {
   "cell_type": "markdown",
   "metadata": {
    "deletable": false,
    "nbgrader": {
     "checksum": "9dd5e48ff6656b7f1dd07a97f7852770",
     "grade": true,
     "grade_id": "cell-71f4781e93c730f3",
     "locked": false,
     "points": 12,
     "schema_version": 1,
     "solution": true
    }
   },
   "source": [
    "1. $a_1(n) = n^2 + 16n + 1 \\leq c\\cdot n^3$ for $n_0 = 5$ and $c = 1 \\Rightarrow a_1(n) \\in O(n^3)$ \n",
    "\n",
    "2. $a_2(n) = n^2 + 16n + 1 \\leq c\\cdot n^2 $ for $n_0 = 1$ and $c = 20 \\Rightarrow a_2(n) \\in O(n^2)$\n",
    "\n",
    "3. $a_3(n) = n^2 + 16n + 1 >  n$ $\\forall n\\in \\mathbb{N} \\Rightarrow a_3(n)\\notin O(n)$\n",
    "\n",
    "4. $a_4(n) = n^2 + 16n + 20 \\geq c \\cdot n^2$ for $n_0 = 0$ and $c = 1/3 \\Rightarrow a_4(n) \\in \\Omega(n)$"
   ]
  }
 ],
 "metadata": {
  "kernelspec": {
   "display_name": "Python 3",
   "language": "python",
   "name": "python3"
  },
  "language_info": {
   "codemirror_mode": {
    "name": "ipython",
    "version": 3
   },
   "file_extension": ".py",
   "mimetype": "text/x-python",
   "name": "python",
   "nbconvert_exporter": "python",
   "pygments_lexer": "ipython3",
   "version": "3.6.4"
  }
 },
 "nbformat": 4,
 "nbformat_minor": 2
}
