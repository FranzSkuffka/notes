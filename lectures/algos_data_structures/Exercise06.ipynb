{
 "cells": [
  {
   "cell_type": "markdown",
   "metadata": {},
   "source": [
    "Before you turn this problem in, make sure everything runs as expected. First, **restart the kernel** (in the menubar, select Kernel$\\rightarrow$Restart) and then **run all cells** (in the menubar, select Cell$\\rightarrow$Run All).\n",
    "\n",
    "Make sure you fill in any place that says `YOUR CODE HERE` or \"YOUR ANSWER HERE\", as well as your name and collaborators below:"
   ]
  },
  {
   "cell_type": "code",
   "execution_count": null,
   "metadata": {},
   "outputs": [],
   "source": [
    "NAME = \"\"\n",
    "COLLABORATORS = \"\""
   ]
  },
  {
   "cell_type": "markdown",
   "metadata": {},
   "source": [
    "---"
   ]
  },
  {
   "cell_type": "markdown",
   "metadata": {
    "deletable": false,
    "editable": false,
    "nbgrader": {
     "checksum": "a7701d1c2b09771cd8ddb5cd6e7b8436",
     "grade": false,
     "grade_id": "cell-d5e8f7201d94ccdc",
     "locked": true,
     "schema_version": 1,
     "solution": false
    }
   },
   "source": [
    "# HASHING"
   ]
  },
  {
   "cell_type": "markdown",
   "metadata": {
    "deletable": false,
    "editable": false,
    "nbgrader": {
     "checksum": "a82f0aedd157738699e1de61b001c0f1",
     "grade": false,
     "grade_id": "cell-f3d9fcd71c3ca466",
     "locked": true,
     "schema_version": 1,
     "solution": false
    }
   },
   "source": [
    "Schreiben Sie eine einfache Hash-Funktion `my_hash(string, s)` mit der Tabellengröße $s$ mittels Modulo Operation (auch bekannt als *Lineares Sondieren* oder  *division remainder hashing*. (4 Punkte)"
   ]
  },
  {
   "cell_type": "code",
   "execution_count": null,
   "metadata": {
    "deletable": false,
    "nbgrader": {
     "checksum": "e5ca405ea506354868ed7edd8be0c2a4",
     "grade": true,
     "grade_id": "cell-af1b70e92b19d8c4",
     "locked": false,
     "points": 4,
     "schema_version": 1,
     "solution": true
    }
   },
   "outputs": [],
   "source": [
    "def my_hash(string, s):\n",
    "    # YOUR CODE HERE\n",
    "    raise NotImplementedError()"
   ]
  },
  {
   "cell_type": "markdown",
   "metadata": {
    "deletable": false,
    "editable": false,
    "nbgrader": {
     "checksum": "08e1b4997a6eb257b34ca5cd1b6c9c13",
     "grade": false,
     "grade_id": "cell-25752505d1c79e98",
     "locked": true,
     "schema_version": 1,
     "solution": false
    }
   },
   "source": [
    "Berechnen Sie mittels der von Ihnen geschriebene Funhtion die Hashwerte der Zeichenketten **done** und **node** mit einer Tabellengröße von $s = 3$. (3 Punkte)"
   ]
  },
  {
   "cell_type": "code",
   "execution_count": null,
   "metadata": {
    "deletable": false,
    "nbgrader": {
     "checksum": "f08b33c7d862fefaf3d7e138e46cefbb",
     "grade": true,
     "grade_id": "cell-b27ef90cc2132399",
     "locked": false,
     "points": 3,
     "schema_version": 1,
     "solution": true
    }
   },
   "outputs": [],
   "source": [
    "# YOUR CODE HERE\n",
    "raise NotImplementedError()"
   ]
  },
  {
   "cell_type": "markdown",
   "metadata": {
    "deletable": false,
    "editable": false,
    "nbgrader": {
     "checksum": "c269dd3b8ee4b111ed4306747272e24d",
     "grade": false,
     "grade_id": "cell-05c0c1005faebe10",
     "locked": true,
     "schema_version": 1,
     "solution": false
    }
   },
   "source": [
    "Ist der Hash beider Zeichenketten der Gleiche? Nennen Sie den Grund. (3. Punkte)"
   ]
  },
  {
   "cell_type": "markdown",
   "metadata": {
    "deletable": false,
    "nbgrader": {
     "checksum": "248ff6c79bd6f66c36acaa05e30afa27",
     "grade": true,
     "grade_id": "cell-71dfab42b9d4fe7a",
     "locked": false,
     "points": 3,
     "schema_version": 1,
     "solution": true
    }
   },
   "source": [
    "YOUR ANSWER HERE"
   ]
  },
  {
   "cell_type": "markdown",
   "metadata": {
    "deletable": false,
    "editable": false,
    "nbgrader": {
     "checksum": "4acefc6bfc03fdfb3007a29b78f5020e",
     "grade": false,
     "grade_id": "cell-c7a81de5ed1414c9",
     "locked": true,
     "schema_version": 1,
     "solution": false
    }
   },
   "source": [
    "Eine weit verbreitete Methode zur Kollisionsvermeidung ist die *Lineare Suche (linear probing)*. Erzeugen Sie eine Hash-Tabelle der Größe $s = 11$ in der Form eines Assoziativen Datenfelds (Dictionary) für die Liste `lisf = [10,45,43,76,57,12,77,13]` Die Hash-Tabelle sollte wie folgt aussehen: `table = {0: 76, 1: 12, 2: 45, 3: 10, 4: 43, 5: 77, 6: 13, 7: None, 8: None, 9: None, 10: 57}`. (10 Punkte)"
   ]
  },
  {
   "cell_type": "code",
   "execution_count": null,
   "metadata": {
    "deletable": false,
    "nbgrader": {
     "checksum": "32baaa17d6596ed943077840059e813f",
     "grade": false,
     "grade_id": "cell-f34574fb999a906f",
     "locked": false,
     "schema_version": 1,
     "solution": true
    }
   },
   "outputs": [],
   "source": [
    "def linearProbingHash(item_list, hash_table_size):\n",
    "    \n",
    "# YOUR CODE HERE\n",
    "raise NotImplementedError()"
   ]
  },
  {
   "cell_type": "code",
   "execution_count": null,
   "metadata": {
    "deletable": false,
    "editable": false,
    "nbgrader": {
     "checksum": "05f67ddc84cc41fa56f7f3f7b250372a",
     "grade": true,
     "grade_id": "cell-9d77dc861e6c0eb0",
     "locked": true,
     "points": 10,
     "schema_version": 1,
     "solution": false
    }
   },
   "outputs": [],
   "source": [
    "list = [10,45,43,76,57,12,77,13]\n"
   ]
  },
  {
   "cell_type": "markdown",
   "metadata": {
    "deletable": false,
    "editable": false,
    "nbgrader": {
     "checksum": "c369541bfaf989d820394a4577b59ffc",
     "grade": false,
     "grade_id": "cell-b8204f21bbd57ea5",
     "locked": true,
     "schema_version": 1,
     "solution": false
    }
   },
   "source": [
    "Erzeugen Sie eine Hash-Tabelle der Größe $s = 11$ in Form eines Assoziativen Datenfelds für die Liste `list = [\"his\", \"her\", \"this\", \"that\", \"what\", \"when\", \"how\", \"why\", \"i dont know\"].`Die Hash-Tabelle sollte aussehen wie folgt: `table = {0: 'her', 1: 'this', ... , 10: None}`. (10 Punkte)"
   ]
  },
  {
   "cell_type": "code",
   "execution_count": null,
   "metadata": {
    "deletable": false,
    "nbgrader": {
     "checksum": "a8dc4d49ade81780755770d7e5b17f60",
     "grade": false,
     "grade_id": "cell-edc469c308109c3d",
     "locked": false,
     "schema_version": 1,
     "solution": true
    }
   },
   "outputs": [],
   "source": [
    "def linearProbingHashStrings(item_list, hash_table_size):\n",
    "    \n",
    "# YOUR CODE HERE\n",
    "raise NotImplementedError()"
   ]
  },
  {
   "cell_type": "code",
   "execution_count": null,
   "metadata": {
    "deletable": false,
    "editable": false,
    "nbgrader": {
     "checksum": "b59d0ca1907cee8456bd0b584b58ff3d",
     "grade": true,
     "grade_id": "cell-df52a49cc705fd10",
     "locked": true,
     "points": 10,
     "schema_version": 1,
     "solution": false
    }
   },
   "outputs": [],
   "source": [
    "stringList = [\"his\", \"her\", \"this\", \"that\", \"what\", \"when\", \"how\", \"why\", \"i dont know\"]"
   ]
  },
  {
   "cell_type": "markdown",
   "metadata": {},
   "source": [
    "Schreiben Sie eine Funktien `all_cocktails(filename)`, die die Datei `cocktails.json` in ein Assozietives Datenfeld `recipes` liest und schreiben Sie eine Funktion `all_ingredients(recipes)`, die eine komplette Liste aller Zutaten ausgibt. (10 Punkte)"
   ]
  },
  {
   "cell_type": "code",
   "execution_count": 21,
   "metadata": {
    "deletable": false,
    "nbgrader": {
     "checksum": "5cf493aa91ff6b15744919fe36dc7280",
     "grade": false,
     "grade_id": "cell-a39e1b1cae7075df",
     "locked": false,
     "schema_version": 1,
     "solution": true
    }
   },
   "outputs": [
    {
     "name": "stdout",
     "output_type": "stream",
     "text": [
      "37\n",
      "{'Calvados', 'Cream', 'Lime juice', 'Champagne', 'Campari', 'Creme liqueur', 'Drambuie', 'Soda water', 'Whiskey', 'Dark rum', 'Cranberry juice', 'Cherry liqueur', 'Syrup', 'Red Port', 'Cognac', 'Vodka', 'Triple Sec', 'Cola', 'Pisco', 'Coffee liqueur', 'Prosecco', 'Gin', 'Kirsch', 'Egg yolk', 'White rum', 'Tequila', 'Apricot brandy', 'Grapefruit juice', 'Pineapple juice', 'Coconut milk', 'Orange juice', 'Vermouth', 'Lemon juice', 'Peach puree', 'Ginger Ale', 'Galliano', 'Lillet Blonde'}\n",
      "37\n"
     ]
    }
   ],
   "source": [
    "import json\n",
    "\n",
    "def all_cocktails(filename):\n",
    "    with open(filename) as f:\n",
    "        return json.load(f)\n",
    "        \n",
    "def all_ingredients(recipes):\n",
    "    ingredients = set()\n",
    "    for c in recipes['cocktails']:\n",
    "        for i in c['ingredients']:\n",
    "            try:\n",
    "                ingredients.add(i['ingredient'])\n",
    "            except KeyError:\n",
    "                pass\n",
    "        \n",
    "    return ingredients\n",
    "\n",
    "recipes = all_cocktails('cocktails.json')\n",
    "numberOfIngredients = len(all_ingredients(recipes))\n",
    "print(numberOfIngredients)\n",
    "print (all_ingredients(recipes))\n",
    "print (numberOfIngredients)\n"
   ]
  },
  {
   "cell_type": "code",
   "execution_count": 22,
   "metadata": {
    "deletable": false,
    "editable": false,
    "nbgrader": {
     "checksum": "2f6286579895ea22ed2166862b9ea3d1",
     "grade": true,
     "grade_id": "cell-4d70aaa8919259a4",
     "locked": true,
     "points": 10,
     "schema_version": 1,
     "solution": false
    }
   },
   "outputs": [],
   "source": [
    "recipes = all_cocktails('cocktails.json')\n",
    "\n",
    "assert (numberOfIngredients) == (37)\n",
    "assert ('Apricot brandy' in all_ingredients(recipes)) \n",
    "assert ('Pineapple juice' in all_ingredients(recipes))\n",
    "assert ('Campari' in all_ingredients(recipes)) \n",
    "assert ('Kirsch' in all_ingredients(recipes))\n",
    "assert ('Pisco' in all_ingredients(recipes))"
   ]
  },
  {
   "cell_type": "code",
   "execution_count": null,
   "metadata": {},
   "outputs": [],
   "source": []
  },
  {
   "cell_type": "code",
   "execution_count": null,
   "metadata": {},
   "outputs": [],
   "source": []
  },
  {
   "cell_type": "code",
   "execution_count": null,
   "metadata": {},
   "outputs": [],
   "source": []
  }
 ],
 "metadata": {
  "kernelspec": {
   "display_name": "Python 3",
   "language": "python",
   "name": "python3"
  },
  "language_info": {
   "codemirror_mode": {
    "name": "ipython",
    "version": 3
   },
   "file_extension": ".py",
   "mimetype": "text/x-python",
   "name": "python",
   "nbconvert_exporter": "python",
   "pygments_lexer": "ipython3",
   "version": "3.6.5"
  }
 },
 "nbformat": 4,
 "nbformat_minor": 2
}
