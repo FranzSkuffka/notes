{
 "cells": [
  {
   "cell_type": "markdown",
   "metadata": {},
   "source": [
    "Before you turn this problem in, make sure everything runs as expected. First, **restart the kernel** (in the menubar, select Kernel$\\rightarrow$Restart) and then **run all cells** (in the menubar, select Cell$\\rightarrow$Run All).\n",
    "\n",
    "Make sure you fill in any place that says `YOUR CODE HERE` or \"YOUR ANSWER HERE\", as well as your name and collaborators below:"
   ]
  },
  {
   "cell_type": "code",
   "execution_count": 1,
   "metadata": {},
   "outputs": [],
   "source": [
    "NAME = \"Jan Wirth\"\n",
    "COLLABORATORS = \"Björn Steinorth\""
   ]
  },
  {
   "cell_type": "markdown",
   "metadata": {},
   "source": [
    "---"
   ]
  },
  {
   "cell_type": "markdown",
   "metadata": {
    "deletable": false,
    "editable": false,
    "nbgrader": {
     "checksum": "bad2e8240b7fcafeba27fe16d85d93d4",
     "grade": false,
     "grade_id": "task1",
     "locked": true,
     "schema_version": 1,
     "solution": false
    }
   },
   "source": [
    "# Aufgabe 1 - Binäre Suchbäume (16 Punkte)\n",
    "\n",
    "a)\t**(5 Punkte)**  \n",
    "In der Vorlesung haben wir die Klasse SearchTree behandelt, die (key, value)-Paare in Node-Objekten mit folgender Definition ablegt:"
   ]
  },
  {
   "cell_type": "code",
   "execution_count": 2,
   "metadata": {
    "deletable": false,
    "editable": false,
    "nbgrader": {
     "checksum": "dbfaab4894c43fb041ddae2b5fc865db",
     "grade": false,
     "grade_id": "task1a-class1",
     "locked": true,
     "schema_version": 1,
     "solution": false
    }
   },
   "outputs": [],
   "source": [
    "class Node:\n",
    "    def __init__(self, key, value):\n",
    "        self.key = key\n",
    "        self.value = value\n",
    "        self.left = self.right = None"
   ]
  },
  {
   "cell_type": "markdown",
   "metadata": {
    "deletable": false,
    "editable": false,
    "nbgrader": {
     "checksum": "cb0c93c4b30d3f9597db59393b2e76fa",
     "grade": false,
     "grade_id": "task1a-text",
     "locked": true,
     "schema_version": 1,
     "solution": false
    }
   },
   "source": [
    "Das Grundgerüst der Klasse SearchTree hat folgende Form:"
   ]
  },
  {
   "cell_type": "code",
   "execution_count": 3,
   "metadata": {
    "deletable": false,
    "nbgrader": {
     "checksum": "364be1f4243ee61c1d8b7d1923f39c64",
     "grade": false,
     "grade_id": "task1a-class2",
     "locked": false,
     "schema_version": 1,
     "solution": true
    }
   },
   "outputs": [],
   "source": [
    "def build(nodes):\n",
    "    t = SearchTree();\n",
    "    for node in nodes:\n",
    "        t.insert(node)\n",
    "    return t.root\n",
    "\n",
    "def insert(node, key, value):\n",
    "    if node.key < key:\n",
    "        if node.right == None or node.right.key == key:\n",
    "            node.right = Node(key, value)\n",
    "        else:\n",
    "            insert(node.right, key, value)\n",
    "    else:\n",
    "        if node.left == None or node.left.key == key:\n",
    "            node.left = Node(key, value)\n",
    "        else:\n",
    "            insert(node.left, key, value)\n",
    "\n",
    "def rebuildFromChildren(node):\n",
    "    return build(getChildren(node))\n",
    "\n",
    "def remove(node, key):\n",
    "    if node.key < key:\n",
    "        if node.right == None:\n",
    "            raise KeyError('Key ' + str(key) + ' not found in tree')\n",
    "        if node.right.key == key:\n",
    "            node.right = rebuildFromChildren(node.right)\n",
    "        else:\n",
    "            remove(node.right, key)\n",
    "    else:\n",
    "        if node.left == None:\n",
    "            raise KeyError('Key ' + str(key) + ' not found in tree')\n",
    "        if node.left.key == key:\n",
    "            node.left = rebuildFromChildren(node.left)\n",
    "        else:\n",
    "            remove(node.left, key)\n",
    "\n",
    "def getChildren(node):\n",
    "    children = []\n",
    "    if node.left != None:\n",
    "        children = children + getChildren(node.left)\n",
    "        children.append(node.left)\n",
    "    if node.right != None:\n",
    "        children = children + getChildren(node.right)\n",
    "        children.append(node.right)\n",
    "    return children\n",
    "\n",
    "def find(node, key):\n",
    "    if node == None or node.key == key:\n",
    "        return node\n",
    "    elif node.key < key:\n",
    "        return find(node.right, key)\n",
    "    else:\n",
    "        return find(node.left, key)\n",
    "\n",
    "class SearchTree:\n",
    "    def __init__(self):\n",
    "        self.root = None\n",
    "        self.size = 0\n",
    "\n",
    "    def __len__(self):\n",
    "        return self.size\n",
    "\n",
    "    def insert(self, key, value):\n",
    "        # YOUR CODE HERE\n",
    "        if(self.root == None):\n",
    "            self.root = Node(key, value)\n",
    "        else:\n",
    "            insert(self.root, key, value)\n",
    "\n",
    "        \n",
    "    def remove(self, key):\n",
    "        if self.root == None:\n",
    "            raise KeyError('Key ' + str(key) + ' not found in tree')\n",
    "        elif self.root.key == key:\n",
    "            self.root = rebuildFromChildren(self.root)\n",
    "        else:\n",
    "            remove(self.root, key)\n",
    "        \n",
    "    def find(self, key):\n",
    "        return find(self.root, key)\n",
    "        \n",
    "# Traverse\n",
    "def preOrderTraverse(root):\n",
    "    if root is not None:\n",
    "        print ('key', root.key, 'value', root.value)\n",
    "        preOrderTraverse(root.left)\n",
    "        preOrderTraverse(root.right)\n",
    "            \n",
    "def inOrderTraverse(root):\n",
    "    if root is not None:\n",
    "        inOrderTraverse(root.left)\n",
    "        print ('key', root.key, 'value', root.value)\n",
    "        inOrderTraverse(root.right)\n",
    "\n",
    "def postOrderTraverse(root):\n",
    "    if root is not None:\n",
    "        postOrderTraverse(root.left)\n",
    "        postOrderTraverse(root.right)\n",
    "        print ('key', root.key, 'value', root.value)\n"
   ]
  },
  {
   "cell_type": "markdown",
   "metadata": {
    "deletable": false,
    "editable": false,
    "nbgrader": {
     "checksum": "8853b3147c7538f20332798ea9ce19a8",
     "grade": false,
     "grade_id": "task1a-hint",
     "locked": true,
     "schema_version": 1,
     "solution": false
    }
   },
   "source": [
    "**Hint:**  \n",
    "Geben Sie einer vollständigen Implementation ab. Wenn tree ein Objekt vom Typ SearchTree ist, soll die Semantik der Aufrufe wie folgt realisiert werden:  \n",
    "\n",
    ">*tree.insert(key, value):*   \n",
    "Fügt den gegebenen Wert value unter dem Schlüssel key ein. Falls key schon vorhanden war, soll der zuvor gespeicherte Wert überschrieben werden. Andernfalls soll ein neuer Node so eingefügt werden, dass die Suchbaumbedingung erhalten bleibt.  \n",
    "\n",
    ">*tree.remove(key):*   \n",
    "Löscht den Node, der den gegebenen Schlüssel enthält, wobei die Such-baumbedingung erhalten bleibt. Falls der Schlüssel nicht vorhanden ist, soll eine KeyError-Excpetion ausgelöst werden, deren Fehlermeldung den Schlüssel angibt.  \n",
    "\n",
    ">*found=tree.find(key):*   \n",
    "Gibt den Node zurück, der den Schlüssel key enthält, oder None, wenn der Schlüssel nicht im Baum vorhanden ist.\n"
   ]
  },
  {
   "cell_type": "code",
   "execution_count": 4,
   "metadata": {
    "deletable": false,
    "editable": false,
    "nbgrader": {
     "checksum": "5334caa525e29722a1433eec4a2fb57a",
     "grade": true,
     "grade_id": "task1a-test",
     "locked": true,
     "points": 5,
     "schema_version": 1,
     "solution": false
    }
   },
   "outputs": [
    {
     "name": "stdout",
     "output_type": "stream",
     "text": [
      "preOrderTraverse:\n",
      "key 6 value 60\n",
      "key 2 value 20\n",
      "key 1 value 10\n",
      "key 8 value 80\n",
      "key 7 value 70\n",
      "inOrderTraverse:\n",
      "key 1 value 10\n",
      "key 2 value 20\n",
      "key 6 value 60\n",
      "key 7 value 70\n",
      "key 8 value 80\n",
      "postOrderTraverse:\n",
      "key 1 value 10\n",
      "key 2 value 20\n",
      "key 7 value 70\n",
      "key 8 value 80\n",
      "key 6 value 60\n"
     ]
    }
   ],
   "source": [
    "a = SearchTree();\n",
    "assert a.__len__() == 0\n",
    "a.insert(6,60) \n",
    "a.insert(2,20)\n",
    "a.insert(5,50)\n",
    "a.insert(3,30)\n",
    "a.insert(8,80)\n",
    "a.insert(4,40)\n",
    "a.insert(1,10)\n",
    "a.insert(7,70)\n",
    "assert a.root.left.right.left.right.key == 4\n",
    "assert a.root.left.right.left.right.value == 40\n",
    "assert a.root.right.left.key == 7\n",
    "assert a.root.right.left.value == 70\n",
    "node1 = a.find(5)\n",
    "assert node1.key == 5\n",
    "assert node1.value == 50\n",
    "a.insert(5,500)\n",
    "node1 = a.find(5)\n",
    "assert node1.key == 5\n",
    "assert node1.value == 500\n",
    "a.remove(5)\n",
    "assert a.find(5) == None\n",
    "\n",
    "print('preOrderTraverse:')\n",
    "preOrderTraverse(a.root)\n",
    "print('inOrderTraverse:')\n",
    "inOrderTraverse(a.root)\n",
    "print('postOrderTraverse:')\n",
    "postOrderTraverse(a.root)\n",
    "    "
   ]
  },
  {
   "cell_type": "markdown",
   "metadata": {
    "deletable": false,
    "editable": false,
    "nbgrader": {
     "checksum": "5b8f2ec9442f47305da76ec21070bcde",
     "grade": false,
     "grade_id": "task1b-text",
     "locked": true,
     "schema_version": 1,
     "solution": false
    }
   },
   "source": [
    "b)\t**(4 Punkte)**  \n",
    "Entwickeln Sie einen Algorithmus, der die Tiefe des Baumes (den maximalen Abstand von der Wurzel zu einem Blatt) bestimmt und implementieren Sie ihn als Methode, so dass depth=tree.depth() die Tiefe zurückgibt.   \n",
    "**Hint:** If there is only one node, its depth is 0. "
   ]
  },
  {
   "cell_type": "code",
   "execution_count": 5,
   "metadata": {
    "deletable": false,
    "nbgrader": {
     "checksum": "4c60aba6e61a6d34eee079461416bb0d",
     "grade": false,
     "grade_id": "task1b-answer",
     "locked": false,
     "schema_version": 1,
     "solution": true
    }
   },
   "outputs": [],
   "source": [
    "def nodeDepth(node, currentDepth = -1):\n",
    "    if node == None:\n",
    "        return currentDepth\n",
    "    else:\n",
    "        return max(nodeDepth(node.left, currentDepth + 1),\n",
    "                   nodeDepth(node.right, currentDepth + 1))\n",
    "def depth(tree):\n",
    "    return nodeDepth(tree.root)\n",
    "    \n",
    "SearchTree.depth = depth\n"
   ]
  },
  {
   "cell_type": "code",
   "execution_count": 6,
   "metadata": {
    "deletable": false,
    "editable": false,
    "nbgrader": {
     "checksum": "ae95a90386541e485bd18cb6322b4796",
     "grade": true,
     "grade_id": "task1b-test",
     "locked": true,
     "points": 4,
     "schema_version": 1,
     "solution": false
    }
   },
   "outputs": [],
   "source": [
    "b = SearchTree();\n",
    "assert b.depth() == -1\n",
    "b.insert(6,60)\n",
    "assert b.depth() == 0\n",
    "b.insert(2,20)\n",
    "assert b.depth() == 1\n",
    "b.insert(5,50)\n",
    "assert b.depth() == 2\n",
    "b.insert(3,30)\n",
    "assert b.depth() == 3\n",
    "b.insert(8,80)\n",
    "assert b.depth() == 3\n",
    "b.insert(4,40)\n",
    "assert b.depth() == 4\n",
    "b.insert(1,10)\n",
    "assert b.depth() == 4\n",
    "b.insert(7,70)\n",
    "assert b.depth() == 4\n"
   ]
  },
  {
   "cell_type": "markdown",
   "metadata": {
    "deletable": false,
    "editable": false,
    "nbgrader": {
     "checksum": "463edf1de4c3c30077cc455c12b843db",
     "grade": false,
     "grade_id": "task1c-question",
     "locked": true,
     "schema_version": 1,
     "solution": false
    }
   },
   "source": [
    "c)\t**(4 Punkte)**   \n",
    "Angenommen, Sie können die Schlüssel in einer selbstgewählten Reihenfolge einfügen. Welche Reihenfolge wählen Sie, damit der Baum nach dem Einfügen eine möglichst geringe Tiefe hat?"
   ]
  },
  {
   "cell_type": "markdown",
   "metadata": {
    "deletable": false,
    "nbgrader": {
     "checksum": "97c74fb9fc163f61b9a3e36690218d1f",
     "grade": true,
     "grade_id": "task1c-answer",
     "locked": false,
     "points": 4,
     "schema_version": 1,
     "solution": true
    }
   },
   "source": [
    "Wie bei Divide and conquer:\n",
    "1. liste sortieren\n",
    "2. median als pivot wählen und in den tree einfügen\n",
    "3. median pivot der linken liste einfügen\n",
    "4. \" rechten \"\n",
    "5. ganz-linke (erste von vier) listen pivotieren und wiederholen, dann die zweite etc."
   ]
  },
  {
   "cell_type": "markdown",
   "metadata": {
    "deletable": false,
    "editable": false,
    "nbgrader": {
     "checksum": "e97424ca41f4f282bc929a724abb53b6",
     "grade": false,
     "grade_id": "task1d-question",
     "locked": true,
     "schema_version": 1,
     "solution": false
    }
   },
   "source": [
    "d)\t**(3 Punkte)**  \n",
    "Beweisen oder widerlegen Sie folgende Aussage: Wenn aus einem Suchbaum erst der Schlüssel X und danach der Schlüssel Y entfernt wird, entsteht der gleiche Baum wie bei umgekehrter Reihenfolge."
   ]
  },
  {
   "cell_type": "markdown",
   "metadata": {
    "deletable": false,
    "nbgrader": {
     "checksum": "279894d1d8216b859925d15e6ad65f04",
     "grade": true,
     "grade_id": "task1d-answer",
     "locked": false,
     "points": 3,
     "schema_version": 1,
     "solution": true
    }
   },
   "source": [
    "Der selbe Baum wird aufgebaut.\n",
    "\n",
    "Da der subtree (in unserer implementierung) von links nach rechts dekonstruiert und wieder aufgebaut wird, ist der vorgang deterministisch und führt zum gleichen resultat. Siehe Skizze.\n",
    "remove(5); remove(3)\n",
    "```\n",
    "    5             3          2\n",
    " 3     7  (-5)> 2   4  (-3)>   4\n",
    "2 4   6 8            7          7 \n",
    "                    6 8        6 8\n",
    "```\n",
    "remove(3); remove(5)\n",
    "```\n",
    "    5              5            2\n",
    " 3     7  (-3)> 2     7  (-5)>   4\n",
    "2 4   6 8        4   6 8          7 \n",
    "                                 6 8\n",
    "```"
   ]
  },
  {
   "cell_type": "markdown",
   "metadata": {
    "deletable": false,
    "editable": false,
    "nbgrader": {
     "checksum": "2a57a3d175ae2117aa39a84734e05a50",
     "grade": false,
     "grade_id": "task2-text",
     "locked": true,
     "schema_version": 1,
     "solution": false
    }
   },
   "source": [
    "# Aufgabe 2 – Taschenrechner (24 Punkte)\n",
    "\n",
    "Binärbäume eignen sich auch, um mathematische Ausdrücke auszuwerten, die als Zeichenketten der Form \"2+5\\*3\" oder \"2\\*4\\*(3+(4-7)\\*8)-(1-6)\" gegeben sind. Man bezeichnet solche Bäume als *Syntax-bäume* (https://de.wikipedia.org/wiki/Abstrakter_Syntaxbaum).  \n",
    "\n",
    "Die Ausdrücke können die arithmetischen Operationen +, -, \\*, / mit den üblichen Rechenregeln enthalten (Klammern haben die höchste Priorität, Punktrechnung geht vor Strichrechnung). Zahlen sollen der Einfachheit halber immer einstellig und positiv sein. Variablen und Funktionen kommen nicht vor. Operationen mit gleicher Priorität werden von links nach rechts ausgewertet (sogenannte *Links-Assoziativität*), damit wie gewohnt 5-2+3 = (5-2)+3 = 6 gilt (und nicht 5-(2+3) = 0, was bei Auswertung von rechts herauskäme). Steht jedoch rechts von einer Zahl oder einem Klammerausdruck eine Operation mit höherer Priorität als links, wird der rechte Operator zuerst ausgewertet. Trifft man auf eine öffnende Klammer, muss man den Substring bis zur zugehörigen schließenden Klammer suchen und die Auswertung rekursiv auf diesen Substring anwenden. Dadurch ergibt sich ein Binärbaum.  \n",
    "\n",
    "a)\t**(14 Punkte)**   \n",
    "Entwickeln Sie einen Algorithmus, der den zu einem Ausdruck korrespondierenden Binärbaum aufbaut, wobei jeder innere Knoten einen Operator (+, -, \\*, /) repräsentiert, jeder Unterbaum einen linken bzw. rechten Operanden, und jedes Blatt eine Zahl. Der Baum soll dann durch eine Funktion parse(s) erstellt werden, an die der Ausdruck als String übergeben wird und die den Wurzelknoten des Baums zurückgibt (die Verwendung der Python-Funktionen eval() bzw. exec ist dabei *nicht* erlaubt). Implementieren Sie diese Funktion und erklären Sie in Kommentaren, wie der Algorithmus vorgeht.   \n",
    "**Hinweis:** Implementieren Sie zunächst zwei Klassen Number und Operator, die als Blattknoten bzw. innere Knoten des Syntaxbaums dienen. Number-Objekte speichern also eine Zahl, und Operator-Objekte ein Operatorsymbol sowie den linken und rechten Operanden (Unterbaum). \n"
   ]
  },
  {
   "cell_type": "code",
   "execution_count": 7,
   "metadata": {
    "deletable": false,
    "nbgrader": {
     "checksum": "cace65d62a3cf32097dd4ff19d1c2183",
     "grade": false,
     "grade_id": "task2a-code",
     "locked": false,
     "schema_version": 1,
     "solution": true
    }
   },
   "outputs": [],
   "source": [
    "#!/usr/bin/python\n",
    "# -*- coding: utf-8 -*-\n",
    "import re\n",
    "\n",
    "OPERATORS = '|\\+|\\-|\\*|\\/'\n",
    "NUMBERS = '\\(?[0-9]\\)?'\n",
    "\n",
    "OPERATOR_FNS = {\n",
    "    '+': lambda x, y: x + y,\n",
    "    '-': lambda x, y: x - y,\n",
    "    '*': lambda x, y: x * y,\n",
    "    '/': lambda x, y: x / y,\n",
    "    }\n",
    "\n",
    "\n",
    "class NodeNum:\n",
    "\n",
    "    def __init__(self, value):\n",
    "        v = int(value)\n",
    "        self.value = v\n",
    "\n",
    "    def eval(self):\n",
    "        return self.value\n",
    "\n",
    "\n",
    "class NodeOp:\n",
    "\n",
    "    def __init__(self, value):\n",
    "        self.value = value\n",
    "        self.left = self.right = None\n",
    "\n",
    "    def eval(self):\n",
    "        return OPERATOR_FNS[self.value](self.left.eval(),\n",
    "                self.right.eval())\n",
    "\n",
    "\n",
    "def groupRest(restParts):\n",
    "    opening = 0\n",
    "    closing = 0\n",
    "    for (index, part) in enumerate(restParts):\n",
    "        if '(' in part:\n",
    "            opening = opening + 1\n",
    "        elif ')' in part:\n",
    "            closing = closing + 1\n",
    "        if opening == closing:\n",
    "            innerWithBrackets = ' '.join(restParts[0:index + 1])\n",
    "            inner = innerWithBrackets[1:len(innerWithBrackets) - 1]\n",
    "            break\n",
    "    res = [split(inner)] + split(' '.join(restParts[index\n",
    "                                 + 1:len(restParts)]))\n",
    "    return res\n",
    "\n",
    "\n",
    "def group(parts):\n",
    "    res = []\n",
    "    for (index, part) in enumerate(parts):\n",
    "        if '(' in part:\n",
    "            res = res + groupRest(parts[index:len(parts)])\n",
    "            break\n",
    "        else:\n",
    "            res.append(parts[index])\n",
    "    return res\n",
    "\n",
    "\n",
    "def split(s):\n",
    "    \"\"\"\n",
    "    \n",
    "    \"\"\"\n",
    "\n",
    "    parts = re.findall('(' + NUMBERS + OPERATORS + ')', s)\n",
    "    res = group(parts)\n",
    "    return res\n",
    "\n",
    "\n",
    "def build(nested):\n",
    "\n",
    "  # flattwen double-nested list\n",
    "\n",
    "    if len(nested) == 1 and isinstance(nested, list) \\\n",
    "        and isinstance(nested[0], list):\n",
    "        nested = nested[0]\n",
    "    rootOpPos = findRootOperatorPosition(nested)\n",
    "\n",
    "  # if an operator was found, recurse\n",
    "\n",
    "    if rootOpPos:\n",
    "        root = NodeOp(nested[rootOpPos])\n",
    "        root.left = build(nested[0:rootOpPos])\n",
    "        root.right = build(nested[rootOpPos + 1:len(nested)])\n",
    "        return root\n",
    "    else:\n",
    "        return NodeNum(nested[0])\n",
    "\n",
    "\n",
    "def findRootOperatorPosition(nested):\n",
    "\n",
    "  # we reverse the list because the leftmost operator has the highest precedence and we can't iterate from right to left\n",
    "\n",
    "    rev = list(reversed(nested))\n",
    "\n",
    "  # we first want the lesser-binding leftmost operators (+, -)\n",
    "  # multiplication and division bind stronger, so we check their positions first and overwrite them with plus/minus positions if found\n",
    "\n",
    "    leftMostLeastBindingOperatorPosition = None\n",
    "    for (index, part) in enumerate(rev):\n",
    "        if not isinstance(part, list) and ('*' in part or '/' in part):\n",
    "            leftMostLeastBindingOperatorPosition = index\n",
    "    for (index, part) in enumerate(rev):\n",
    "        if not isinstance(part, list) and ('+' in part or '-' in part):\n",
    "            leftMostLeastBindingOperatorPosition = index\n",
    "    if leftMostLeastBindingOperatorPosition:\n",
    "\n",
    "    # reverse index back\n",
    "\n",
    "        return len(nested) - leftMostLeastBindingOperatorPosition - 1\n",
    "    else:\n",
    "        return None\n",
    "\n",
    "\n",
    "def parse(s):\n",
    "    print ('parsing', s)\n",
    "    nested = split(s)\n",
    "    tree = build(nested)\n",
    "    return tree\n",
    "\n",
    "\n",
    "# Traverse\n",
    "\n",
    "def preOrderTraverse2(node):\n",
    "    if type(node) == NodeOp:\n",
    "        print ('key', node.key, 'value', node.value)\n",
    "        preOrderTraverse2(node.left)\n",
    "        preOrderTraverse2(node.right)\n",
    "    elif type(node) == NodeNum:\n",
    "        print ('key', node.key, 'value', node.value)\n",
    "\n",
    "\n",
    "def inOrderTraverse2(node):\n",
    "    if type(node) == NodeOp:\n",
    "        inOrderTraverse2(node.left)\n",
    "        print ('key', node.key, 'value', node.value)\n",
    "        inOrderTraverse2(node.right)\n",
    "    elif type(node) == NodeNum:\n",
    "        print ('key', node.key, 'value', node.value)\n",
    "\n",
    "\n",
    "def postOrderTraverse2(node):\n",
    "    if type(node) == NodeOp:\n",
    "        postOrderTraverse2(node.left)\n",
    "        postOrderTraverse2(node.right)\n",
    "        print ('key', node.key, 'value', node.value)\n",
    "    elif type(node) == NodeNum:\n",
    "        print ('key', node.key, 'value', node.value)\n"
   ]
  },
  {
   "cell_type": "code",
   "execution_count": null,
   "metadata": {
    "deletable": false,
    "nbgrader": {
     "checksum": "ca1f69c148bf00b5da3e1e3bef9d0124",
     "grade": true,
     "grade_id": "task2a-test",
     "locked": false,
     "points": 12,
     "schema_version": 1,
     "solution": true
    }
   },
   "outputs": [],
   "source": []
  },
  {
   "cell_type": "markdown",
   "metadata": {
    "deletable": false,
    "editable": false,
    "nbgrader": {
     "checksum": "f3de43aa0f5b05de4a02e1828b4441e2",
     "grade": false,
     "grade_id": "task2b-text",
     "locked": true,
     "schema_version": 1,
     "solution": false
    }
   },
   "source": [
    "b)\t**(3 Punkte)**   \n",
    "Skizzieren Sie die Bäume, die sich für die Ausdrücke \"2+5\\*3\" und \"2\\*4\\*(3+(4-7)\\*8)-(1-6)\" ergeben."
   ]
  },
  {
   "cell_type": "markdown",
   "metadata": {
    "deletable": false,
    "nbgrader": {
     "checksum": "d8cb54310dd79e45483f4e12613b92ee",
     "grade": true,
     "grade_id": "task2b-answer",
     "locked": false,
     "points": 2,
     "schema_version": 1,
     "solution": true
    }
   },
   "source": [
    "YOUR ANSWER HERE"
   ]
  },
  {
   "cell_type": "code",
   "execution_count": 8,
   "metadata": {
    "deletable": false,
    "nbgrader": {
     "checksum": "120562a3d3a9c82d76310f96c733d45c",
     "grade": true,
     "grade_id": "task2b-test",
     "locked": false,
     "points": 1,
     "schema_version": 1,
     "solution": true
    }
   },
   "outputs": [
    {
     "name": "stdout",
     "output_type": "stream",
     "text": [
      "17\n",
      "-163\n"
     ]
    }
   ],
   "source": [
    "root1 = NodeOp(\"+\")\n",
    "root1.left = NodeNum(2)\n",
    "root1.right = NodeOp(\"*\")\n",
    "root1.right.left = NodeNum(5)\n",
    "root1.right.right = NodeNum(3)\n",
    "print(root1.eval())\n",
    "\n",
    "root2 = NodeOp(\"-\")\n",
    "\n",
    "root2.right = NodeOp(\"-\")\n",
    "root2.right.left = NodeNum(1)\n",
    "root2.right.right = NodeNum(6)\n",
    "\n",
    "root2.left = NodeOp(\"*\")\n",
    "root2.left.left = NodeNum(2)\n",
    "root2.left.right = NodeOp(\"*\")\n",
    "root2.left.right.left = NodeNum(4)\n",
    "root2.left.right.right = NodeOp(\"*\")\n",
    "\n",
    "inner2 = NodeOp(\"+\")\n",
    "inner2.left = NodeNum(3)\n",
    "inner2.right = NodeOp(\"*\")\n",
    "inner2.right.left = NodeOp(\"-\")\n",
    "inner2.right.right = NodeNum(\"8\")\n",
    "inner2.right.left.left = NodeNum(4)\n",
    "inner2.right.left.right = NodeNum(7)\n",
    "\n",
    "root2.left.right.right = inner2\n",
    "\n",
    "print(root2.eval())\n",
    "\n"
   ]
  },
  {
   "cell_type": "markdown",
   "metadata": {
    "deletable": false,
    "editable": false,
    "nbgrader": {
     "checksum": "0fca1056adc8b43a2fff4ebb1e392115",
     "grade": false,
     "grade_id": "task2c-text",
     "locked": true,
     "schema_version": 1,
     "solution": false
    }
   },
   "source": [
    "c)\t**(3 Punkte)**   \n",
    "Implementieren Sie eine Funktion evaluateTree(root), um einen Ausdruck mit Hilfe des in a) erstellten Baums auszurechnen."
   ]
  },
  {
   "cell_type": "code",
   "execution_count": 9,
   "metadata": {
    "deletable": false,
    "nbgrader": {
     "checksum": "461e3d38bd36e778bf26ce8fc7c3e3e6",
     "grade": false,
     "grade_id": "task2c-answer",
     "locked": false,
     "schema_version": 1,
     "solution": true
    }
   },
   "outputs": [],
   "source": [
    "def evaluateTree(root):\n",
    "    \"\"\"\n",
    "    This function evaluates the result of an expression given its tree root. \n",
    "\n",
    "    Arguments:\n",
    "    root -- the root node of the tree\n",
    "\n",
    "    Returns:\n",
    "    root.value -- the result of the expression\n",
    "    \"\"\"\n",
    "    return root.eval()"
   ]
  },
  {
   "cell_type": "code",
   "execution_count": 10,
   "metadata": {
    "deletable": false,
    "editable": false,
    "nbgrader": {
     "checksum": "856449a88821cfe529dd685e753b0426",
     "grade": true,
     "grade_id": "task2c-test",
     "locked": true,
     "points": 3,
     "schema_version": 1,
     "solution": false
    }
   },
   "outputs": [
    {
     "name": "stdout",
     "output_type": "stream",
     "text": [
      "parsing 2+5*3\n",
      "parsing 2*4*(3+(4-7)*8)-(1-6)\n"
     ]
    }
   ],
   "source": [
    "assert evaluateTree(parse('2+5*3')) == 17\n",
    "assert evaluateTree(parse('2*4*(3+(4-7)*8)-(1-6)')) == -163\n"
   ]
  },
  {
   "cell_type": "markdown",
   "metadata": {
    "deletable": false,
    "editable": false,
    "nbgrader": {
     "checksum": "937b332bf72cd6d852ab54f6ec5f72b9",
     "grade": false,
     "grade_id": "task2d-text",
     "locked": true,
     "schema_version": 1,
     "solution": false
    }
   },
   "source": [
    "d)\t**(4 Punkte)**   \n",
    "Schreiben Sie Unit Tests für Ihr Verfahren. Beachten Sie dabei die Hinweise zum Erstellen guter Tests im Kapitel \"Korrektheit\" des Skripts. Beispielsweise müssen Sie verschiedene Varianten der Operator-Präzedenz und Klammerung testen."
   ]
  },
  {
   "cell_type": "code",
   "execution_count": 11,
   "metadata": {
    "deletable": false,
    "nbgrader": {
     "checksum": "d0a0736104746a18da56e10d2544e70a",
     "grade": true,
     "grade_id": "task2d-test",
     "locked": false,
     "points": 4,
     "schema_version": 1,
     "solution": true
    }
   },
   "outputs": [
    {
     "name": "stdout",
     "output_type": "stream",
     "text": [
      "parsing 2+5*3\n",
      "parsing 2+(5-3)\n",
      "parsing 2*2*2*2\n",
      "parsing 2*4*(3+(4-7)*8)-(1-6)\n",
      "parsing (1-6)+2*4*(3+(4-7)*8)\n",
      "parsing (1-6+2*4*3+(4-7)*8)\n"
     ]
    }
   ],
   "source": [
    "assert evaluateTree(parse('2+5*3')) == 17\n",
    "assert evaluateTree(parse('2+(5-3)')) == 4\n",
    "assert evaluateTree(parse('2*2*2*2')) == 16\n",
    "assert evaluateTree(parse('2*4*(3+(4-7)*8)-(1-6)')) == -163\n",
    "assert evaluateTree(parse('(1-6)+2*4*(3+(4-7)*8)')) == -173\n",
    "assert evaluateTree(parse('(1-6+2*4*3+(4-7)*8)')) == -5"
   ]
  },
  {
   "cell_type": "code",
   "execution_count": null,
   "metadata": {},
   "outputs": [],
   "source": []
  }
 ],
 "metadata": {
  "kernelspec": {
   "display_name": "Python 3",
   "language": "python",
   "name": "python3"
  },
  "language_info": {
   "codemirror_mode": {
    "name": "ipython",
    "version": 3
   },
   "file_extension": ".py",
   "mimetype": "text/x-python",
   "name": "python",
   "nbconvert_exporter": "python",
   "pygments_lexer": "ipython3",
   "version": "3.6.5"
  }
 },
 "nbformat": 4,
 "nbformat_minor": 2
}
