{
 "cells": [
  {
   "cell_type": "markdown",
   "metadata": {},
   "source": [
    "Before you turn this problem in, make sure everything runs as expected. First, **restart the kernel** (in the menubar, select Kernel$\\rightarrow$Restart) and then **run all cells** (in the menubar, select Cell$\\rightarrow$Run All).\n",
    "\n",
    "Make sure you fill in any place that says `YOUR CODE HERE` or \"YOUR ANSWER HERE\", as well as your name and collaborators below:"
   ]
  },
  {
   "cell_type": "code",
   "execution_count": 25,
   "metadata": {},
   "outputs": [],
   "source": [
    "NAME = \"Björn Steinorth\"\n",
    "COLLABORATORS = \"\""
   ]
  },
  {
   "cell_type": "markdown",
   "metadata": {},
   "source": [
    "---"
   ]
  },
  {
   "cell_type": "markdown",
   "metadata": {
    "deletable": false,
    "editable": false,
    "nbgrader": {
     "checksum": "4f98b7958f574cf6b102492270ad00c0",
     "grade": false,
     "grade_id": "cell-37b6cd40d940ada4",
     "locked": true,
     "schema_version": 1,
     "solution": false
    }
   },
   "source": [
    "# Inverses Hashing"
   ]
  },
  {
   "cell_type": "markdown",
   "metadata": {
    "deletable": false,
    "editable": false,
    "nbgrader": {
     "checksum": "b071bc4dc8d1c569afee3e0b3088cafc",
     "grade": false,
     "grade_id": "cell-4263b72d83e15c4e",
     "locked": true,
     "schema_version": 1,
     "solution": false
    }
   },
   "source": [
    "Hashtabellen werden ineffizient, wenn die verwendete Hashfunktion viele Kollisionen verursacht. Ein Hacker, der die Hashfunktion kennt, kann diese Tatsache ausnutzen, um absichtlich ineffiziente Anfragen zu konstruieren: Er wählt die in der Anfrage verwendeten Schlüssel gezielt so, dass alle auf den gleichen Hashwert abgebildet werden (\"adversarial keys\"). Werden viele ineffiziente Anfragen dieser Art gleichzeitig gestartet, kann die angegriffene Webseite (die die gegebene Hashfunktion intern benutzt) zusammenbrechen (\"denial of service\"). In der Praxis verhindert man dies durch die Verwendung von universellem Hashing, indem man die Hashfunktion per Zufall aus einem großen Pool erlaubter Hashfunktionen auswählt. Dann ist es nicht mehr möglich, im Vorhinein ein ungünstiges Set von Schlüsseln zu konstruieren. Für diese Übungsaufgabe wollen wir aber annehmen, dass stets die folgende einfache Hashfunktion verwendet wird:\n",
    "```python\n",
    "def hhash(s): # s ist ein Schlüssel vom Typ string\n",
    "    h = 0     # der Hashwert wird mit 0 initialisiert\n",
    "    for k in s:\n",
    "        h = 23*h + ord(k)  # Aktualisieren des Hashs mit dem Zeichencode\n",
    "    return h\n",
    "```\n",
    "Dabei gibt `ord(k)` den Zeichencode des Zeichens k zurück. Schreiben Sie eine Funktion um mindestens 16 Schlüssel (Strings) der Länge 4 zu finden, die alle den gleichen Hashwert haben. Geben Sie diese Schlüssel zurück und beschreiben Sie (Python docstring im Funktionskopf), wie Sie vorgegangen sind, um diese Schlüssel zu finden. Hinweis: Beginnen Sie damit, Kollisionen mit Schlüsseln der Länge 2 zu konstruieren und verwenden Sie diese Ergebnisse zur Konstruktion von Schlüsseln der Länge 4."
   ]
  },
  {
   "cell_type": "code",
   "execution_count": 26,
   "metadata": {
    "deletable": false,
    "nbgrader": {
     "checksum": "f5666e78db326911fc44aa0b7266f55e",
     "grade": false,
     "grade_id": "cell-dcc9a6b4bd08bee9",
     "locked": false,
     "schema_version": 1,
     "solution": true
    },
    "scrolled": true
   },
   "outputs": [],
   "source": [
    "def hhash(s):\n",
    "        h = 0\n",
    "        for k in s:\n",
    "            h = 23*h + ord(k)\n",
    "        return h\n",
    "#Vorgehensweise: Von der Hashfunktion wurde eine \"lesbarere Gleichung\" aufgestellt, diese lautet (für einen String der \n",
    "#Länge 2)mit der Form string = \"xy\" wobei x, y beliebige char sind wie folgt: hashwert = 23 * x + y\n",
    "#nun kann man einen beliebigen String eingeben (hier \"AB\"), und den Hashwert berechnen lassen.\n",
    "#x wurde nun passend gewählt(beginnend bei 32 und eine geeignete umwandlung in einen char zu garantieren char(32) = \" \").\n",
    "#Mit der Formel oben wird nun y berechnet, und x,y in einen String umgewandelt, dieser hat dann den gleichen Hashwert \n",
    "#wie der String \"AB\". Aufgrund der schlechten Hashfunktion hat ein char an einer bestimmten Stelle immer die gleiche\n",
    "#Auswirkung auf den Hashwert/Wertigkeit, so dass bei 4 Stellen die ersten zwei char beliebig gewählt werden können,\n",
    "#und die letzten 2 nach dem obigen Schema.\n",
    "def findAdversialKeys():\n",
    "    list = []\n",
    "    #beliebiger Hashwert, hier von AB\n",
    "    hashwert = hhash(\"AB\")\n",
    "    for x in range (33,49):\n",
    "        #mit der obigen Formel wird ein passendes y zum erhalten des Hashwertes gesucht\n",
    "        y = hashwert - 23 * x\n",
    "        #Der String soll 4 char lang sein\n",
    "        string = \"A\" + \"A\" + chr(x) + chr(y)\n",
    "        #Asugabe\n",
    "        print(x-32,\".String: \\\"\",string,\"\\\"\", \", Hashwert: \", hhash(string))\n",
    "        list.append(string)#String mit identischem Hashwert wird an Liste angehängt\n",
    "    return list#Liste mit Strings die den gleichen Hashwert erzeugen wird zurückgegeben"
   ]
  },
  {
   "cell_type": "code",
   "execution_count": 27,
   "metadata": {
    "deletable": false,
    "editable": false,
    "nbgrader": {
     "checksum": "b4f95ddb315291a7e091031b9ae92383",
     "grade": true,
     "grade_id": "cell-885536a84f661a21",
     "locked": true,
     "points": 15,
     "schema_version": 1,
     "solution": false
    }
   },
   "outputs": [
    {
     "name": "stdout",
     "output_type": "stream",
     "text": [
      "Testing inverse hashing.\n",
      "1 .String: \" AA!̢ \" , Hashwert:  826801\n",
      "2 .String: \" AA\"̋ \" , Hashwert:  826801\n",
      "3 .String: \" AA#˴ \" , Hashwert:  826801\n",
      "4 .String: \" AA$˝ \" , Hashwert:  826801\n",
      "5 .String: \" AA%ˆ \" , Hashwert:  826801\n",
      "6 .String: \" AA&ʯ \" , Hashwert:  826801\n",
      "7 .String: \" AA'ʘ \" , Hashwert:  826801\n",
      "8 .String: \" AA(ʁ \" , Hashwert:  826801\n",
      "9 .String: \" AA)ɪ \" , Hashwert:  826801\n",
      "10 .String: \" AA*ɓ \" , Hashwert:  826801\n",
      "11 .String: \" AA+ȼ \" , Hashwert:  826801\n",
      "12 .String: \" AA,ȥ \" , Hashwert:  826801\n",
      "13 .String: \" AA-Ȏ \" , Hashwert:  826801\n",
      "14 .String: \" AA.Ƿ \" , Hashwert:  826801\n",
      "15 .String: \" AA/Ǡ \" , Hashwert:  826801\n",
      "16 .String: \" AA0ǉ \" , Hashwert:  826801\n",
      "done\n"
     ]
    }
   ],
   "source": [
    "print(\"Testing inverse hashing.\")\n",
    "adv_keys = findAdversialKeys()\n",
    "print(\"done\")"
   ]
  },
  {
   "cell_type": "markdown",
   "metadata": {
    "deletable": false,
    "editable": false,
    "nbgrader": {
     "checksum": "7f85bb1f8d1f0f27838d796ee65525a7",
     "grade": false,
     "grade_id": "cell-840d7fcd54a1b170",
     "locked": true,
     "schema_version": 1,
     "solution": false
    }
   },
   "source": [
    "# 2. Hash-Table"
   ]
  },
  {
   "cell_type": "markdown",
   "metadata": {
    "deletable": false,
    "editable": false,
    "nbgrader": {
     "checksum": "5af90decdd69d36a85cd3cedfd4b1607",
     "grade": false,
     "grade_id": "cell-ab9d48dd91c74d36",
     "locked": true,
     "schema_version": 1,
     "solution": false
    }
   },
   "source": [
    "Definieren Sie eine Klasse `HashTable`, die eine Hash-Tabelle der Größe `size` als geschachtelte Liste (Liste in einer Liste) implementiert (Bsp. `[[], [], [], [], [], [], [], [], [], []]`). Implementieren Sie die folgenden drei Methoden:\n",
    "\n",
    "  - `set(key, value)`: Um ein neues Schlüssel-Wert-Paar zu der Tabelle hinzuzufügen\n",
    "  - `get(key)`: Um den Wert zu einem Schlüssel zurück zu geben. Raise a KeyError when the given key isn't in the Hash Table.\n",
    "  - `remove(key)`: Um ein Schlüssel-Wert-Paar aus der Tabelle zu entfernen. Befindet sich der Schlüssel nicht in der Liste soll eine `KeyError` Ausnahme ausgelöst werden.\n",
    " "
   ]
  },
  {
   "cell_type": "code",
   "execution_count": null,
   "metadata": {},
   "outputs": [],
   "source": []
  },
  {
   "cell_type": "code",
   "execution_count": null,
   "metadata": {},
   "outputs": [],
   "source": []
  },
  {
   "cell_type": "code",
   "execution_count": 28,
   "metadata": {
    "deletable": false,
    "nbgrader": {
     "checksum": "256d8b36b89d5f5f53b445a0a335e475",
     "grade": false,
     "grade_id": "cell-b583ed5b3b5cee94",
     "locked": false,
     "schema_version": 1,
     "solution": true
    }
   },
   "outputs": [],
   "source": [
    "class KeyValuePair(object):\n",
    "\n",
    "    def __init__(self, key, value):\n",
    "        self.key = key\n",
    "        self.value = value\n",
    "\n",
    "class HashTable(object):\n",
    "    \n",
    "    def __init__(self,size):\n",
    "        list = []\n",
    "        for i in range (0,size):\n",
    "            liste = []\n",
    "            list.append(liste)\n",
    "        self.list = list#Hashtable hat eine geschachtelte Liste\n",
    "        self.size = size#und die Größe als Membervariablen\n",
    "   \n",
    "    def set(self,key,value):\n",
    "        pair = KeyValuePair(key,value)\n",
    "        liste = self.list[key % self.size]#Die Liste an der Stelle key%size wird angeschaut(division remainder hashing)\n",
    "        if len(liste) == 0:#1.Möglichkeit: Liste ist leer, KeyValuePair kann einfach angehängt werden\n",
    "            liste.append(pair)\n",
    "            return\n",
    "        for i in range (0,len(liste)):\n",
    "            element = liste[i]\n",
    "            if element.key == key:#2.Möglichkeit: der Key ist bereits vorhanden, und wird überschrieben\n",
    "                liste[i] = pair\n",
    "                break\n",
    "            if i == len(liste) - 1:#3-Möglichkeit: Die Liste ist nicht leer, und der Key noch nicht vorhanden\n",
    "                liste.append(pair) #dann wird der einfach Key angehängt\n",
    "   \n",
    "    def get(self,key):#Key wird an passender Stelle gesucht, und wenn vorhanden zurüchgegeben\n",
    "        liste = self.list[key % self.size]\n",
    "        for i in range (0,len(liste)):\n",
    "            element = liste[i]\n",
    "            if element.key == key:\n",
    "                return element.value\n",
    "            if i == len(liste) - 1:\n",
    "                raise KeyError\n",
    "                \n",
    "    def remove(self,key):\n",
    "        liste = self.list[key % self.size] \n",
    "        for i in range (0,len(liste)):\n",
    "            element = liste[i]\n",
    "            if element.key == key:\n",
    "                del liste[i]   #Wenn der Key vorhanden ist, wird das KeyValuePair aus der Liste entfernt\n",
    "                self.list[i] = liste\n",
    "                break\n",
    "            if i == len(liste) - 1: #Fehler, wenn der Key nicht vorhanden ist\n",
    "                raise KeyError"
   ]
  },
  {
   "cell_type": "code",
   "execution_count": 29,
   "metadata": {
    "deletable": false,
    "editable": false,
    "nbgrader": {
     "checksum": "27806e8c3dbcb672369d01256cfbb345",
     "grade": true,
     "grade_id": "cell-504521e252fb4e77",
     "locked": true,
     "points": 10,
     "schema_version": 1,
     "solution": false
    }
   },
   "outputs": [],
   "source": [
    "hash_table = HashTable(10)\n"
   ]
  },
  {
   "cell_type": "markdown",
   "metadata": {
    "deletable": false,
    "editable": false,
    "nbgrader": {
     "checksum": "39a07349bbdfca4055a3ef4956845109",
     "grade": false,
     "grade_id": "cell-61311686f187f304",
     "locked": true,
     "schema_version": 1,
     "solution": false
    }
   },
   "source": [
    "Schreiben Sie Einheitentests um die Funktionen `insert`, `get` und `remove` zu testen. Überprüfen Sie folgendes Verhalten:\n",
    "\n",
    " 1. `get` auf eine leere Tabelle\n",
    " 2. `set` auf eine leere Tabelle\n",
    " 3. `set` auf eine nicht-leere Tabelle mit nicht vorhandenem Schlüssel\n",
    " 4. `set` mit bereits vorhandenem Schlüssel (Der Wert sollte aktualisiert werden)\n",
    " 5. `remove` auf einen vorhandenen Schlüssel\n",
    " 6. `remove`auf einen nicht vorhandenen Schlüssel\n",
    "\n",
    "Geben Sie **Success: test_№** wenn der Test erfolgreich durchläuft (Bsp. **Success: test_1** für den ersten Test)."
   ]
  },
  {
   "cell_type": "code",
   "execution_count": 30,
   "metadata": {
    "deletable": false,
    "nbgrader": {
     "checksum": "ae942c6f460e226dac48a9ea8420e51a",
     "grade": false,
     "grade_id": "cell-6509e5223cc4c0b6",
     "locked": false,
     "schema_version": 1,
     "solution": true
    }
   },
   "outputs": [
    {
     "name": "stderr",
     "output_type": "stream",
     "text": [
      "......"
     ]
    },
    {
     "name": "stdout",
     "output_type": "stream",
     "text": [
      "Success: test_1\n",
      "Success: test_2\n",
      "Success: test_2\n",
      "Success: test_3\n",
      "Success: test_4\n",
      "Success: test_5\n",
      "Success: test_6\n"
     ]
    },
    {
     "name": "stderr",
     "output_type": "stream",
     "text": [
      "\n",
      "----------------------------------------------------------------------\n",
      "Ran 6 tests in 0.005s\n",
      "\n",
      "OK\n"
     ]
    },
    {
     "data": {
      "text/plain": [
       "<unittest.main.TestProgram at 0x18f9a78df28>"
      ]
     },
     "execution_count": 30,
     "metadata": {},
     "output_type": "execute_result"
    }
   ],
   "source": [
    "import unittest\n",
    "\n",
    "class HashTest(unittest.TestCase):\n",
    "    \n",
    "    def test_1_get_on_empty_hash_table(self):\n",
    "        hash_table = HashTable(10)\n",
    "        self.assertEqual(hash_table.get(14), None) #Der Key 14 darf nicht vorhanden sein\n",
    "        print(\"Success: test_1\")\n",
    "    def test_2_set_on_empty_hash_table(self):\n",
    "        hash_table = HashTable(10)\n",
    "        hash_table.set(14,77)\n",
    "        self.assertEqual(hash_table.get(14), 77)   #Der Value des Keys 14 muss danach 77 sein\n",
    "        print(\"Success: test_2\")\n",
    "    def test_3_set_on_non_empty_hash_table(self):\n",
    "        hash_table = HashTable(10)\n",
    "        for i in range (0,10):\n",
    "            hash_table.set(i,i)\n",
    "        hash_table.set(17,77)\n",
    "        self.assertEqual(hash_table.get(17), 77)   #Der Value des Keys 17 muss danach 77 sein\n",
    "        print(\"Success: test_2\")\n",
    "        print(\"Success: test_3\")\n",
    "    def test_4_set_on_a_key_that_already_exists(self):\n",
    "        hash_table = HashTable(10)\n",
    "        for i in range (0,10):\n",
    "            hash_table.set(i,i)\n",
    "        hash_table.set(7,10)\n",
    "        self.assertEqual(hash_table.get(7), 10)  #Der Value des Keys 7 muss dnach mit 10 überschrieben worden sein\n",
    "        print(\"Success: test_4\")\n",
    "    def test_5_remove_on_a_key_that_already_exists(self):\n",
    "        hash_table = HashTable(10)\n",
    "        hash_table.set(4,4)\n",
    "        hash_table.remove(4)\n",
    "        self.assertEqual(hash_table.get(4), None)  #Der Key 4 darf nicht mehr vorhanden sein\n",
    "        print(\"Success: test_5\")\n",
    "    def test_6_remove_on_a_key_that_does_not_exist(self):\n",
    "        hash_table = HashTable(10)\n",
    "        hash_table.remove(6)\n",
    "        self.assertEqual(hash_table.get(6), None)  #Der Key 6 existiert nicht, hash_table.get(6) darf nichts zurückgeben\n",
    "        print(\"Success: test_6\")\n",
    "        \n",
    "unittest.main(argv=['first-arg-is-ignored'], exit=False)"
   ]
  },
  {
   "cell_type": "code",
   "execution_count": 31,
   "metadata": {
    "deletable": false,
    "editable": false,
    "nbgrader": {
     "checksum": "ca9829a7d8c65f0d83a1b25ca0d9a3e8",
     "grade": true,
     "grade_id": "cell-b888785bc6c55b6e",
     "locked": true,
     "points": 15,
     "schema_version": 1,
     "solution": false
    }
   },
   "outputs": [
    {
     "name": "stdout",
     "output_type": "stream",
     "text": [
      "Success: test_1\n",
      "Success: test_2\n",
      "Success: test_2\n",
      "Success: test_3\n",
      "Success: test_4\n",
      "Success: test_5\n",
      "Success: test_6\n"
     ]
    }
   ],
   "source": [
    "test_suite = unittest.TestLoader().loadTestsFromTestCase(HashTest)\n",
    "import os\n",
    "test_result = unittest.TextTestRunner(stream = open(os.devnull, 'w')).run(test_suite)\n"
   ]
  },
  {
   "cell_type": "code",
   "execution_count": null,
   "metadata": {},
   "outputs": [],
   "source": []
  }
 ],
 "metadata": {
  "kernelspec": {
   "display_name": "Python 3",
   "language": "python",
   "name": "python3"
  },
  "language_info": {
   "codemirror_mode": {
    "name": "ipython",
    "version": 3
   },
   "file_extension": ".py",
   "mimetype": "text/x-python",
   "name": "python",
   "nbconvert_exporter": "python",
   "pygments_lexer": "ipython3",
   "version": "3.6.4"
  }
 },
 "nbformat": 4,
 "nbformat_minor": 2
}
